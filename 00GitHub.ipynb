{
 "cells": [
  {
   "cell_type": "markdown",
   "metadata": {},
   "source": [
    "# 创建\n",
    "\n",
    "1. 在github网站上创建repository，然后clone到本地\n",
    "\n",
    ">在github上创建名为my_leetcode的repository：https://github.com/.../my_leetcode.git  \n",
    ">>git clone https://github.com/.../my_leetcode.git \n",
    "\n",
    "2. 在本地创建repository，然后push到github\n",
    "\n",
    ">创建文件夹my_leetcode，然后在my_leetcode所在路径下进行一下操作：  \n",
    ">>echo \" my_leetcode\" >> README.md  # 创建README.md文件并写入\"my_leetcode\"  \n",
    ">>git init  # 初始化当前文件夹为repository  \n",
    ">>git add README.md  # 添加README.md到repository  \n",
    ">>git commit -m \"first commit\"  # 提交改动  \n",
    ">>git remote add origin https://github.com/.../my_leetcode.git  # 与github建立远程连接  \n",
    ">>git push -u origin master  # 推送改动  "
   ]
  },
  {
   "cell_type": "markdown",
   "metadata": {},
   "source": []
  },
  {
   "cell_type": "markdown",
   "metadata": {},
   "source": []
  },
  {
   "cell_type": "markdown",
   "metadata": {},
   "source": []
  },
  {
   "cell_type": "markdown",
   "metadata": {},
   "source": []
  },
  {
   "cell_type": "markdown",
   "metadata": {},
   "source": []
  },
  {
   "cell_type": "markdown",
   "metadata": {},
   "source": []
  }
 ],
 "metadata": {
  "kernelspec": {
   "display_name": "Python 3",
   "language": "python",
   "name": "python3"
  },
  "language_info": {
   "codemirror_mode": {
    "name": "ipython",
    "version": 3
   },
   "file_extension": ".py",
   "mimetype": "text/x-python",
   "name": "python",
   "nbconvert_exporter": "python",
   "pygments_lexer": "ipython3",
   "version": "3.6.8"
  }
 },
 "nbformat": 4,
 "nbformat_minor": 2
}
