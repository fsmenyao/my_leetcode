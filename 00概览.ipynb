{
 "cells": [
  {
   "cell_type": "markdown",
   "metadata": {},
   "source": [
    "# 程序=数据结构+算法"
   ]
  },
  {
   "cell_type": "markdown",
   "metadata": {},
   "source": [
    "## 一、数据结构"
   ]
  },
  {
   "cell_type": "markdown",
   "metadata": {},
   "source": [
    "### 存储方式\n",
    "基础数据结构：  \n",
    "1. 数组  \n",
    "紧凑连续存储，可通过索引随机访问，相对节约存储空间。  \n",
    "内存空间必须一次性分配够:数组扩容时间复杂度O(N),需要重新分配更大的空间，再把数据全部复制过去；在数组中间进行插入和删除时间复杂度O(N)，每次都需搬移后面的所有数据以保持连续。\n",
    "2. 链表  \n",
    "链式存储，存储空间不连续，无法通过索引随机访问，每个元素必须存储指向前后元素位置的指针，相对消耗存储空间。  \n",
    "靠指针指向下一个元素的位置，不存在扩容问题；在链表中间进行插入和删除时间复杂度O(1)，只需知道某一元素的前驱和后驱。\n",
    "\n",
    "其他数据结构：\n",
    "1. 队列  \n",
    "用数组实现需要处理扩容、缩容问题；用链表实现需要更多内存空间存储节点指针。\n",
    "2. 栈  \n",
    "同上\n",
    "3. 堆  \n",
    "用数组实现，是完全二叉树。\n",
    "4. 树  \n",
    "用数组实现就是堆；用链表实现可以衍生出各种巧妙的设计以对应不同的搜索问题，例如：二叉搜索树、AVL树、红黑树、区间树、B树等。\n",
    "5. 图  \n",
    "图的邻接矩阵表示就是二维数组，方便快速判断连通性和进行矩阵运算，但图比较稀疏时耗费储存空间；图的邻接表就是链表，操作效率相对较差，但节省空间。\n",
    "\n",
    "6. 散列表  \n",
    "通过散列函数吧键映射到一个大数组里。  \n",
    "解决散列冲突的方法：线性探查法需要数组特性，节省空间但操作复杂；拉链法需要链表特性，需要额外空间存储指针但操作简单。"
   ]
  },
  {
   "cell_type": "markdown",
   "metadata": {},
   "source": [
    "### 基本操作\n",
    "基本操作：遍历+访问  \n",
    "1. 增\n",
    "2. 删\n",
    "3. 查\n",
    "4. 改  \n",
    "\n",
    "**数据结构的存在目的就是在不同的应用场景下，尽可能高效地增删查改。**\n",
    "\n",
    "遍历方式  \n",
    "1. 线性的：for、while等迭代结构\n",
    "2. 非线性的：递归结构\n",
    "\n",
    "数组遍历是典型的迭代结构，链表遍历检具迭代和递归结构。"
   ]
  },
  {
   "cell_type": "markdown",
   "metadata": {},
   "source": [
    "## 二、算法"
   ]
  },
  {
   "cell_type": "markdown",
   "metadata": {},
   "source": [
    "### 树\n"
   ]
  },
  {
   "cell_type": "markdown",
   "metadata": {},
   "source": [
    "### 回溯\n"
   ]
  },
  {
   "cell_type": "markdown",
   "metadata": {},
   "source": [
    "### 动态规划\n"
   ]
  },
  {
   "cell_type": "markdown",
   "metadata": {},
   "source": [
    "### 分治\n"
   ]
  },
  {
   "cell_type": "code",
   "execution_count": null,
   "metadata": {},
   "outputs": [],
   "source": []
  }
 ],
 "metadata": {
  "kernelspec": {
   "display_name": "Python 3",
   "language": "python",
   "name": "python3"
  },
  "language_info": {
   "codemirror_mode": {
    "name": "ipython",
    "version": 3
   },
   "file_extension": ".py",
   "mimetype": "text/x-python",
   "name": "python",
   "nbconvert_exporter": "python",
   "pygments_lexer": "ipython3",
   "version": "3.6.8"
  }
 },
 "nbformat": 4,
 "nbformat_minor": 2
}
